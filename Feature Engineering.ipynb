{
 "cells": [
  {
   "cell_type": "markdown",
   "id": "46a8a7a0",
   "metadata": {
    "deletable": false,
    "editable": false,
    "run_control": {
     "frozen": true
    }
   },
   "source": [
    "<hr style=\"height:.9px;border:none;color:#333;background-color:#333;\" />\n",
    "<hr style=\"height:.9px;border:none;color:#333;background-color:#333;\" />\n",
    "\n",
    "<h2>Homework - Feature Engineering</h2>\n",
    "<h4>DAT-5303 | Machine Learning</h4>\n",
    "\n",
    "<br>\n",
    "<hr style=\"height:.9px;border:none;color:#333;background-color:#333;\" />\n",
    "<hr style=\"height:.9px;border:none;color:#333;background-color:#333;\" />"
   ]
  },
  {
   "cell_type": "markdown",
   "id": "894d6d3d",
   "metadata": {},
   "source": [
    "Team: TEAM 6"
   ]
  },
  {
   "cell_type": "code",
   "execution_count": 2,
   "id": "9be2ea07",
   "metadata": {},
   "outputs": [
    {
     "ename": "FileNotFoundError",
     "evalue": "[Errno 2] No such file or directory: './datasets/ames_transformed.xlsx'",
     "output_type": "error",
     "traceback": [
      "\u001b[0;31m---------------------------------------------------------------------------\u001b[0m",
      "\u001b[0;31mFileNotFoundError\u001b[0m                         Traceback (most recent call last)",
      "Cell \u001b[0;32mIn[2], line 20\u001b[0m\n\u001b[1;32m     16\u001b[0m file \u001b[38;5;241m=\u001b[39m \u001b[38;5;124m'\u001b[39m\u001b[38;5;124m./datasets/ames_transformed.xlsx\u001b[39m\u001b[38;5;124m'\u001b[39m\n\u001b[1;32m     19\u001b[0m \u001b[38;5;66;03m# reading the file into Python\u001b[39;00m\n\u001b[0;32m---> 20\u001b[0m housing \u001b[38;5;241m=\u001b[39m pd\u001b[38;5;241m.\u001b[39mread_excel(io     \u001b[38;5;241m=\u001b[39m file,\n\u001b[1;32m     21\u001b[0m                         header \u001b[38;5;241m=\u001b[39m \u001b[38;5;241m0\u001b[39m   )\n\u001b[1;32m     23\u001b[0m \u001b[38;5;66;03m# importing interval and count data\u001b[39;00m\n\u001b[1;32m     24\u001b[0m file \u001b[38;5;241m=\u001b[39m \u001b[38;5;124m\"\u001b[39m\u001b[38;5;124m./datasets/ames_non_continuous.xlsx\u001b[39m\u001b[38;5;124m\"\u001b[39m \n",
      "File \u001b[0;32m~/anaconda3/lib/python3.11/site-packages/pandas/io/excel/_base.py:504\u001b[0m, in \u001b[0;36mread_excel\u001b[0;34m(io, sheet_name, header, names, index_col, usecols, dtype, engine, converters, true_values, false_values, skiprows, nrows, na_values, keep_default_na, na_filter, verbose, parse_dates, date_parser, date_format, thousands, decimal, comment, skipfooter, storage_options, dtype_backend, engine_kwargs)\u001b[0m\n\u001b[1;32m    502\u001b[0m \u001b[38;5;28;01mif\u001b[39;00m \u001b[38;5;129;01mnot\u001b[39;00m \u001b[38;5;28misinstance\u001b[39m(io, ExcelFile):\n\u001b[1;32m    503\u001b[0m     should_close \u001b[38;5;241m=\u001b[39m \u001b[38;5;28;01mTrue\u001b[39;00m\n\u001b[0;32m--> 504\u001b[0m     io \u001b[38;5;241m=\u001b[39m ExcelFile(\n\u001b[1;32m    505\u001b[0m         io,\n\u001b[1;32m    506\u001b[0m         storage_options\u001b[38;5;241m=\u001b[39mstorage_options,\n\u001b[1;32m    507\u001b[0m         engine\u001b[38;5;241m=\u001b[39mengine,\n\u001b[1;32m    508\u001b[0m         engine_kwargs\u001b[38;5;241m=\u001b[39mengine_kwargs,\n\u001b[1;32m    509\u001b[0m     )\n\u001b[1;32m    510\u001b[0m \u001b[38;5;28;01melif\u001b[39;00m engine \u001b[38;5;129;01mand\u001b[39;00m engine \u001b[38;5;241m!=\u001b[39m io\u001b[38;5;241m.\u001b[39mengine:\n\u001b[1;32m    511\u001b[0m     \u001b[38;5;28;01mraise\u001b[39;00m \u001b[38;5;167;01mValueError\u001b[39;00m(\n\u001b[1;32m    512\u001b[0m         \u001b[38;5;124m\"\u001b[39m\u001b[38;5;124mEngine should not be specified when passing \u001b[39m\u001b[38;5;124m\"\u001b[39m\n\u001b[1;32m    513\u001b[0m         \u001b[38;5;124m\"\u001b[39m\u001b[38;5;124man ExcelFile - ExcelFile already has the engine set\u001b[39m\u001b[38;5;124m\"\u001b[39m\n\u001b[1;32m    514\u001b[0m     )\n",
      "File \u001b[0;32m~/anaconda3/lib/python3.11/site-packages/pandas/io/excel/_base.py:1563\u001b[0m, in \u001b[0;36mExcelFile.__init__\u001b[0;34m(self, path_or_buffer, engine, storage_options, engine_kwargs)\u001b[0m\n\u001b[1;32m   1561\u001b[0m     ext \u001b[38;5;241m=\u001b[39m \u001b[38;5;124m\"\u001b[39m\u001b[38;5;124mxls\u001b[39m\u001b[38;5;124m\"\u001b[39m\n\u001b[1;32m   1562\u001b[0m \u001b[38;5;28;01melse\u001b[39;00m:\n\u001b[0;32m-> 1563\u001b[0m     ext \u001b[38;5;241m=\u001b[39m inspect_excel_format(\n\u001b[1;32m   1564\u001b[0m         content_or_path\u001b[38;5;241m=\u001b[39mpath_or_buffer, storage_options\u001b[38;5;241m=\u001b[39mstorage_options\n\u001b[1;32m   1565\u001b[0m     )\n\u001b[1;32m   1566\u001b[0m     \u001b[38;5;28;01mif\u001b[39;00m ext \u001b[38;5;129;01mis\u001b[39;00m \u001b[38;5;28;01mNone\u001b[39;00m:\n\u001b[1;32m   1567\u001b[0m         \u001b[38;5;28;01mraise\u001b[39;00m \u001b[38;5;167;01mValueError\u001b[39;00m(\n\u001b[1;32m   1568\u001b[0m             \u001b[38;5;124m\"\u001b[39m\u001b[38;5;124mExcel file format cannot be determined, you must specify \u001b[39m\u001b[38;5;124m\"\u001b[39m\n\u001b[1;32m   1569\u001b[0m             \u001b[38;5;124m\"\u001b[39m\u001b[38;5;124man engine manually.\u001b[39m\u001b[38;5;124m\"\u001b[39m\n\u001b[1;32m   1570\u001b[0m         )\n",
      "File \u001b[0;32m~/anaconda3/lib/python3.11/site-packages/pandas/io/excel/_base.py:1419\u001b[0m, in \u001b[0;36minspect_excel_format\u001b[0;34m(content_or_path, storage_options)\u001b[0m\n\u001b[1;32m   1416\u001b[0m \u001b[38;5;28;01mif\u001b[39;00m \u001b[38;5;28misinstance\u001b[39m(content_or_path, \u001b[38;5;28mbytes\u001b[39m):\n\u001b[1;32m   1417\u001b[0m     content_or_path \u001b[38;5;241m=\u001b[39m BytesIO(content_or_path)\n\u001b[0;32m-> 1419\u001b[0m \u001b[38;5;28;01mwith\u001b[39;00m get_handle(\n\u001b[1;32m   1420\u001b[0m     content_or_path, \u001b[38;5;124m\"\u001b[39m\u001b[38;5;124mrb\u001b[39m\u001b[38;5;124m\"\u001b[39m, storage_options\u001b[38;5;241m=\u001b[39mstorage_options, is_text\u001b[38;5;241m=\u001b[39m\u001b[38;5;28;01mFalse\u001b[39;00m\n\u001b[1;32m   1421\u001b[0m ) \u001b[38;5;28;01mas\u001b[39;00m handle:\n\u001b[1;32m   1422\u001b[0m     stream \u001b[38;5;241m=\u001b[39m handle\u001b[38;5;241m.\u001b[39mhandle\n\u001b[1;32m   1423\u001b[0m     stream\u001b[38;5;241m.\u001b[39mseek(\u001b[38;5;241m0\u001b[39m)\n",
      "File \u001b[0;32m~/anaconda3/lib/python3.11/site-packages/pandas/io/common.py:872\u001b[0m, in \u001b[0;36mget_handle\u001b[0;34m(path_or_buf, mode, encoding, compression, memory_map, is_text, errors, storage_options)\u001b[0m\n\u001b[1;32m    863\u001b[0m         handle \u001b[38;5;241m=\u001b[39m \u001b[38;5;28mopen\u001b[39m(\n\u001b[1;32m    864\u001b[0m             handle,\n\u001b[1;32m    865\u001b[0m             ioargs\u001b[38;5;241m.\u001b[39mmode,\n\u001b[0;32m   (...)\u001b[0m\n\u001b[1;32m    868\u001b[0m             newline\u001b[38;5;241m=\u001b[39m\u001b[38;5;124m\"\u001b[39m\u001b[38;5;124m\"\u001b[39m,\n\u001b[1;32m    869\u001b[0m         )\n\u001b[1;32m    870\u001b[0m     \u001b[38;5;28;01melse\u001b[39;00m:\n\u001b[1;32m    871\u001b[0m         \u001b[38;5;66;03m# Binary mode\u001b[39;00m\n\u001b[0;32m--> 872\u001b[0m         handle \u001b[38;5;241m=\u001b[39m \u001b[38;5;28mopen\u001b[39m(handle, ioargs\u001b[38;5;241m.\u001b[39mmode)\n\u001b[1;32m    873\u001b[0m     handles\u001b[38;5;241m.\u001b[39mappend(handle)\n\u001b[1;32m    875\u001b[0m \u001b[38;5;66;03m# Convert BytesIO or file objects passed with an encoding\u001b[39;00m\n",
      "\u001b[0;31mFileNotFoundError\u001b[0m: [Errno 2] No such file or directory: './datasets/ames_transformed.xlsx'"
     ]
    }
   ],
   "source": [
    "\n",
    "# importing libraries\n",
    "import pandas as pd                   # data science essentials\n",
    "import matplotlib.pyplot as plt       # essential graphical output\n",
    "import seaborn as sns                 # enhanced graphical output\n",
    "import numpy as np                    # mathematical essentials\n",
    "import statsmodels.formula.api as smf # regression modeling\n",
    "\n",
    "\n",
    "# setting pandas print options\n",
    "pd.set_option('display.max_rows', 500)\n",
    "pd.set_option('display.max_columns', 500)\n",
    "pd.set_option('display.width', 1000)\n",
    "\n",
    "\n",
    "# importing transformed dataset\n",
    "file = './datasets/ames_transformed.xlsx'\n",
    "\n",
    "\n",
    "# reading the file into Python\n",
    "housing = pd.read_excel(io     = file,\n",
    "                        header = 0   )\n",
    "\n",
    "# importing interval and count data\n",
    "file = \"./datasets/ames_non_continuous.xlsx\" \n",
    "\n",
    "housing_2 = pd.read_excel(io         = file,\n",
    "                          header     = 0,\n",
    "                          sheet_name = 'interval_count')\n",
    "\n",
    "\n",
    "# merging the two datasets\n",
    "housing = housing.merge(right = housing_2,\n",
    "                        on    = 'property_id',\n",
    "                        how   = 'inner') \n",
    "\n",
    "# outputting the first ten rows of the dataset\n",
    "housing.head(n=10)"
   ]
  },
  {
   "cell_type": "markdown",
   "id": "e2b76a48",
   "metadata": {},
   "source": [
    "1. Quality Score:\n",
    "    This feature reflects the quality and condition of the house, therefore houses with a higher Quality Score should have a higher Sale Price. Given that houses built with better materials and in better condition are more desirable for buyers. The correlation between Quality Score and the response variables should be positive. We believe this feature is useful because it combines quality and condition of the house, two very important metrics that are often seen in the same light, into a single number. \n",
    "    \n",
    "    \n",
    "2. Bedroom to Bathroom Ratio:\n",
    "    Being able to know how many rooms could have a particular bathroom is a great feature to have, it goes beyond number of bathrooms and elevates the utility of the metric. It could even work as a good filter for buyers trying to find an appropriate house for their families. We believe this feature will have a negative correlation to both Sale_Price and log_Sale_Price. As the ratio increases the house becomes less desirable because there are more rooms that lack their own bathroom. We hypothesis that if thats the case, the Sale_Price will decrease with an increasing Bedroom_to_Bathroom_Ratio.\n",
    "    \n",
    "        \n",
    "3. Quality to Area Ratio:\n",
    "    Assuming that the market values quality over size we believe the Quality to Area Ratio (Q2A_Ratio) will have a positive correlation to both response variables. In a market that is willing to sacrifice size to obtain a higher quality house, houses with a higher Q2A_Ratio should be more desirable. This increase in desirability should therefore increase the Sale_Price of the house. We believe this feature has two utilities, one is to help us determine what the market values more, size or quality. The second use for this feature is for small families or single buyers who want a quality house even if it's smaller than other houses. \n",
    "\n",
    "\n"
   ]
  },
  {
   "cell_type": "code",
   "execution_count": 1,
   "id": "8505fd21",
   "metadata": {},
   "outputs": [
    {
     "ename": "NameError",
     "evalue": "name 'housing' is not defined",
     "output_type": "error",
     "traceback": [
      "\u001b[0;31m---------------------------------------------------------------------------\u001b[0m",
      "\u001b[0;31mNameError\u001b[0m                                 Traceback (most recent call last)",
      "Cell \u001b[0;32mIn[1], line 4\u001b[0m\n\u001b[1;32m      1\u001b[0m \u001b[38;5;66;03m# Feature 1: Quality_Score\u001b[39;00m\n\u001b[1;32m      2\u001b[0m \n\u001b[1;32m      3\u001b[0m \u001b[38;5;66;03m# Setting the feature in the housing data frame\u001b[39;00m\n\u001b[0;32m----> 4\u001b[0m housing[\u001b[38;5;124m'\u001b[39m\u001b[38;5;124mQuality_Score\u001b[39m\u001b[38;5;124m'\u001b[39m] \u001b[38;5;241m=\u001b[39m housing[\u001b[38;5;124m'\u001b[39m\u001b[38;5;124mOverall_Qual\u001b[39m\u001b[38;5;124m'\u001b[39m] \u001b[38;5;241m*\u001b[39m housing[\u001b[38;5;124m'\u001b[39m\u001b[38;5;124mOverall_Cond\u001b[39m\u001b[38;5;124m'\u001b[39m]\n\u001b[1;32m      6\u001b[0m \u001b[38;5;66;03m# Display the first few rows of the datasets to confirm the new features\u001b[39;00m\n\u001b[1;32m      7\u001b[0m housing\u001b[38;5;241m.\u001b[39mhead()\n",
      "\u001b[0;31mNameError\u001b[0m: name 'housing' is not defined"
     ]
    }
   ],
   "source": [
    "# Feature 1: Quality_Score\n",
    "\n",
    "# Setting the feature in the housing data frame\n",
    "housing['Quality_Score'] = housing['Overall_Qual'] * housing['Overall_Cond']\n",
    "\n",
    "# Display the first few rows of the datasets to confirm the new features\n",
    "housing.head()\n"
   ]
  },
  {
   "cell_type": "code",
   "execution_count": 9,
   "id": "d4e8b3a2",
   "metadata": {},
   "outputs": [
    {
     "name": "stdout",
     "output_type": "stream",
     "text": [
      "   property_id  Assumed_Bedrooms  Full_Bath  Half_Bath  Bedroom_to_Bathroom_Ratio\n",
      "0            1                 4          1          0                   4.000000\n",
      "1            2                 2          1          0                   2.000000\n",
      "2            3                 2          1          1                   1.333333\n",
      "3            4                 3          2          1                   1.200000\n",
      "4            5                 1          2          1                   0.400000\n"
     ]
    }
   ],
   "source": [
    "#FEATURE 2# BEDROOM TO BATHROOM RATIO\n",
    "\n",
    "# Assuming 'TotRms_AbvGr' includes 1 kitchen, at least 1 living room, and a variable number of full and half bathrooms.\n",
    "# We'll subtract 1 for the kitchen, 1 for the living room, and 1 for each bathroom counted by 'Full_Bath' and 'Half_Bath'.\n",
    "# This is a simplification and the actual number may vary if, for example, homes have multiple living rooms or kitchens.\n",
    "housing['Assumed_Bedrooms'] = housing['TotRms_AbvGr'] - 1 - housing['Full_Bath'] - housing['Half_Bath'] - 1\n",
    "\n",
    "# Ensure that the assumed number of bedrooms is not less than 1\n",
    "housing['Assumed_Bedrooms'] = housing['Assumed_Bedrooms'].clip(lower=1)\n",
    "\n",
    "# Calculate the Bedroom_to_Bathroom_Ratio with the assumed number of bedrooms\n",
    "# Adding 0.5 for each Half_Bath to count it as a half bathroom in the total\n",
    "housing['Bedroom_to_Bathroom_Ratio'] = housing['Assumed_Bedrooms'] / (housing['Full_Bath'] + 0.5 * housing['Half_Bath'])\n",
    "\n",
    "# Display the new feature along with relevant existing features for verification\n",
    "print(housing[['property_id', 'Assumed_Bedrooms', 'Full_Bath', 'Half_Bath', 'Bedroom_to_Bathroom_Ratio']].head())\n"
   ]
  },
  {
   "cell_type": "code",
   "execution_count": 10,
   "id": "49a444d5",
   "metadata": {},
   "outputs": [
    {
     "name": "stdout",
     "output_type": "stream",
     "text": [
      "   property_id  Overall_Qual  Gr_Liv_Area  Q2A_Ratio\n",
      "0            1             6         1656   0.003623\n",
      "1            2             5          896   0.005580\n",
      "2            3             6         1329   0.004515\n",
      "3            4             7         2110   0.003318\n",
      "4            5             5         1629   0.003069\n"
     ]
    }
   ],
   "source": [
    "#FEATURE 3: QUALITY TO AREA RATIO\n",
    "\n",
    "# Setting the feature in the housing data frame\n",
    "housing['Q2A_Ratio'] = housing['Overall_Qual'] / housing['Gr_Liv_Area']\n",
    "\n",
    "# Printing relevant features\n",
    "print(housing[['property_id', 'Overall_Qual', 'Gr_Liv_Area', 'Q2A_Ratio']].head())\n"
   ]
  },
  {
   "cell_type": "code",
   "execution_count": 11,
   "id": "0ab62d1b",
   "metadata": {},
   "outputs": [],
   "source": [
    "# SUMMARY : CORRELATIONS\n",
    "\n",
    "#Setting the correlations method and rounding the result to two decimal places\n",
    "df_corr = housing.corr(method = 'pearson').round(2)\n",
    "\n",
    "# Saving the correlation matrix as df_corr to use it for the heatmap \n",
    "df_corr = df_corr.loc[ ['Q2A_Ratio', 'Bedroom_to_Bathroom_Ratio', 'Quality_Score'] , ['Sale_Price', 'log_Sale_Price'] ].sort_values(by = 'Sale_Price',\n",
    "                                                                ascending = False)"
   ]
  },
  {
   "cell_type": "markdown",
   "id": "b412bf1d",
   "metadata": {
    "deletable": false,
    "editable": false,
    "run_control": {
     "frozen": true
    }
   },
   "source": [
    "<br>"
   ]
  },
  {
   "cell_type": "markdown",
   "id": "2ac980b3",
   "metadata": {
    "deletable": false,
    "editable": false,
    "run_control": {
     "frozen": true
    }
   },
   "source": [
    "<br>"
   ]
  },
  {
   "cell_type": "code",
   "execution_count": 12,
   "id": "69c3cdaa",
   "metadata": {},
   "outputs": [
    {
     "data": {
      "image/png": "[encoded data removed]",
      "text/plain": [
       "<Figure size 640x480 with 2 Axes>"
      ]
     },
     "metadata": {},
     "output_type": "display_data"
    }
   ],
   "source": [
    "# Creating a heatmap explaning the correlations between the added features and Sale_price and log_Sale_Price\n",
    "sns.heatmap(df_corr, annot=True, cmap='RdBu_r', linewidths=.5, fmt=\".2f\")\n",
    "plt.title('Correlation between added features and Sale_Price/log_Sale Price') # Adding a title to the plot \n",
    "plt.show()\n",
    "\n",
    "\n"
   ]
  },
  {
   "cell_type": "markdown",
   "id": "82fdb9fd",
   "metadata": {},
   "source": [
    "As expected, the Quality_Score feature had a strong possible correlation to both Sale_Price and log_Sale_Price. It makes logical sense that houses that are better built and that are in better condition sell for a higher price.\n",
    "\n",
    "Regarding the Quality to Area ratio (Q2A_Ratio), although small, there is a negative correlation between this feature and the response variables. Based on the premise that the market would value quality over size we expected the relationship to be positive. A possible explanation is that the market values size and quality together, so in this case this feature is not a good predictor of sale price, which would also explain the weak correlation. \n",
    "\n",
    "The Bedroom_to_Bathroom_Ratio, as hypothesized, shows a small negative correlation with both Sale_Price and log_Sale_Price. This makes sense taking into account that houses with more bathrooms are more expensive and that buyers prefer having sufficient bathrooms for the number of bedrooms in the house. \n",
    "\n",
    "\n"
   ]
  }
 ],
 "metadata": {
  "kernelspec": {
   "display_name": "Python 3 (ipykernel)",
   "language": "python",
   "name": "python3"
  },
  "language_info": {
   "codemirror_mode": {
    "name": "ipython",
    "version": 3
   },
   "file_extension": ".py",
   "mimetype": "text/x-python",
   "name": "python",
   "nbconvert_exporter": "python",
   "pygments_lexer": "ipython3",
   "version": "3.11.5"
  },
  "toc": {
   "base_numbering": 1,
   "nav_menu": {},
   "number_sections": false,
   "sideBar": true,
   "skip_h1_title": false,
   "title_cell": "Table of Contents",
   "title_sidebar": "Contents",
   "toc_cell": false,
   "toc_position": {},
   "toc_section_display": true,
   "toc_window_display": false
  },
  "varInspector": {
   "cols": {
    "lenName": 16,
    "lenType": 16,
    "lenVar": 40
   },
   "kernels_config": {
    "python": {
     "delete_cmd_postfix": "",
     "delete_cmd_prefix": "del ",
     "library": "var_list.py",
     "varRefreshCmd": "print(var_dic_list())"
    },
    "r": {
     "delete_cmd_postfix": ") ",
     "delete_cmd_prefix": "rm(",
     "library": "var_list.r",
     "varRefreshCmd": "cat(var_dic_list()) "
    }
   },
   "types_to_exclude": [
    "module",
    "function",
    "builtin_function_or_method",
    "instance",
    "_Feature"
   ],
   "window_display": false
  }
 },
 "nbformat": 4,
 "nbformat_minor": 5
}
